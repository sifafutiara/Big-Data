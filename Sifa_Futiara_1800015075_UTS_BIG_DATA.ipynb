{
  "nbformat": 4,
  "nbformat_minor": 0,
  "metadata": {
    "colab": {
      "name": "Sifa Futiara_1800015075_UTS_BIG_DATA.ipynb",
      "provenance": [],
      "collapsed_sections": []
    },
    "kernelspec": {
      "name": "python3",
      "display_name": "Python 3"
    },
    "language_info": {
      "name": "python"
    }
  },
  "cells": [
    {
      "cell_type": "markdown",
      "metadata": {
        "id": "yoE1QHg0kalo"
      },
      "source": [
        "# **UTS BIG DATA**\n",
        "\n",
        "\n",
        "\n"
      ]
    },
    {
      "cell_type": "markdown",
      "metadata": {
        "id": "Nsvatt_gk1li"
      },
      "source": [
        "### **1. [10] Carilah dataset tabular untuk masalah klasifikasi pada situs kaggle.com. Dataset harus  berbeda-beda untuk masing-masing mahasiswa.**"
      ]
    },
    {
      "cell_type": "markdown",
      "metadata": {
        "id": "xuFoGPk5lWuA"
      },
      "source": [
        "### Import Library"
      ]
    },
    {
      "cell_type": "code",
      "metadata": {
        "id": "dM2KKQl2mQ3v"
      },
      "source": [
        "import pandas as pd                           \n",
        "import numpy as np\n",
        "import seaborn as sns\n",
        "import matplotlib.pyplot as plt"
      ],
      "execution_count": null,
      "outputs": []
    },
    {
      "cell_type": "markdown",
      "metadata": {
        "id": "vTHhE-NhmSQt"
      },
      "source": [
        "### Mengakses Dataset"
      ]
    },
    {
      "cell_type": "code",
      "metadata": {
        "id": "A3pqbWrAmz0_",
        "colab": {
          "base_uri": "https://localhost:8080/",
          "height": 204
        },
        "outputId": "4e65a30f-aa9b-4e1a-be3f-4e9ce7c2e029"
      },
      "source": [
        "df = pd.read_csv('https://raw.githubusercontent.com/sifafutiara/Big-Data/main/classification.csv')\n",
        "df.head() "
      ],
      "execution_count": null,
      "outputs": [
        {
          "output_type": "execute_result",
          "data": {
            "text/html": [
              "<div>\n",
              "<style scoped>\n",
              "    .dataframe tbody tr th:only-of-type {\n",
              "        vertical-align: middle;\n",
              "    }\n",
              "\n",
              "    .dataframe tbody tr th {\n",
              "        vertical-align: top;\n",
              "    }\n",
              "\n",
              "    .dataframe thead th {\n",
              "        text-align: right;\n",
              "    }\n",
              "</style>\n",
              "<table border=\"1\" class=\"dataframe\">\n",
              "  <thead>\n",
              "    <tr style=\"text-align: right;\">\n",
              "      <th></th>\n",
              "      <th>age</th>\n",
              "      <th>interest</th>\n",
              "      <th>success</th>\n",
              "    </tr>\n",
              "  </thead>\n",
              "  <tbody>\n",
              "    <tr>\n",
              "      <th>0</th>\n",
              "      <td>23.657801</td>\n",
              "      <td>18.859917</td>\n",
              "      <td>0.0</td>\n",
              "    </tr>\n",
              "    <tr>\n",
              "      <th>1</th>\n",
              "      <td>22.573729</td>\n",
              "      <td>17.969223</td>\n",
              "      <td>0.0</td>\n",
              "    </tr>\n",
              "    <tr>\n",
              "      <th>2</th>\n",
              "      <td>32.553424</td>\n",
              "      <td>29.463651</td>\n",
              "      <td>0.0</td>\n",
              "    </tr>\n",
              "    <tr>\n",
              "      <th>3</th>\n",
              "      <td>6.718035</td>\n",
              "      <td>25.704665</td>\n",
              "      <td>1.0</td>\n",
              "    </tr>\n",
              "    <tr>\n",
              "      <th>4</th>\n",
              "      <td>14.401919</td>\n",
              "      <td>16.770856</td>\n",
              "      <td>0.0</td>\n",
              "    </tr>\n",
              "  </tbody>\n",
              "</table>\n",
              "</div>"
            ],
            "text/plain": [
              "         age   interest  success\n",
              "0  23.657801  18.859917      0.0\n",
              "1  22.573729  17.969223      0.0\n",
              "2  32.553424  29.463651      0.0\n",
              "3   6.718035  25.704665      1.0\n",
              "4  14.401919  16.770856      0.0"
            ]
          },
          "metadata": {},
          "execution_count": 45
        }
      ]
    },
    {
      "cell_type": "markdown",
      "metadata": {
        "id": "16P4BCqjv_5m"
      },
      "source": [
        "**A. Jumlah Dataset**"
      ]
    },
    {
      "cell_type": "code",
      "metadata": {
        "colab": {
          "base_uri": "https://localhost:8080/"
        },
        "id": "ahUjP2WBwUHZ",
        "outputId": "1680a7dc-4f00-4f37-de4a-ca34afa14ff6"
      },
      "source": [
        "df.shape"
      ],
      "execution_count": null,
      "outputs": [
        {
          "output_type": "execute_result",
          "data": {
            "text/plain": [
              "(297, 3)"
            ]
          },
          "metadata": {},
          "execution_count": 46
        }
      ]
    },
    {
      "cell_type": "markdown",
      "metadata": {
        "id": "DnAAtcTxwwik"
      },
      "source": [
        "**B. Jumlah Fitur**"
      ]
    },
    {
      "cell_type": "code",
      "metadata": {
        "colab": {
          "base_uri": "https://localhost:8080/"
        },
        "id": "dyjPr6x8w3PO",
        "outputId": "e54b0435-8c59-4b63-fffa-726626689207"
      },
      "source": [
        "df.columns.values "
      ],
      "execution_count": null,
      "outputs": [
        {
          "output_type": "execute_result",
          "data": {
            "text/plain": [
              "array(['age', 'interest', 'success'], dtype=object)"
            ]
          },
          "metadata": {},
          "execution_count": 47
        }
      ]
    },
    {
      "cell_type": "markdown",
      "metadata": {
        "id": "UPw1WA4253b4"
      },
      "source": [
        "**C. Keterangan Fitur**"
      ]
    },
    {
      "cell_type": "code",
      "metadata": {
        "colab": {
          "base_uri": "https://localhost:8080/"
        },
        "id": "66dbZlsv6Kl9",
        "outputId": "fe49c687-2b40-476e-915e-d2b906fd594a"
      },
      "source": [
        "df.info() "
      ],
      "execution_count": null,
      "outputs": [
        {
          "output_type": "stream",
          "name": "stdout",
          "text": [
            "<class 'pandas.core.frame.DataFrame'>\n",
            "RangeIndex: 297 entries, 0 to 296\n",
            "Data columns (total 3 columns):\n",
            " #   Column    Non-Null Count  Dtype  \n",
            "---  ------    --------------  -----  \n",
            " 0   age       297 non-null    float64\n",
            " 1   interest  297 non-null    float64\n",
            " 2   success   297 non-null    float64\n",
            "dtypes: float64(3)\n",
            "memory usage: 7.1 KB\n"
          ]
        }
      ]
    },
    {
      "cell_type": "markdown",
      "metadata": {
        "id": "aCAe0Grt6PaH"
      },
      "source": [
        "**D. Tipe Fitur Data**"
      ]
    },
    {
      "cell_type": "code",
      "metadata": {
        "colab": {
          "base_uri": "https://localhost:8080/"
        },
        "id": "g0Qgxgjrw8o6",
        "outputId": "00e8fb51-318d-4a40-8694-ed78a5f84c7b"
      },
      "source": [
        "df.dtypes"
      ],
      "execution_count": null,
      "outputs": [
        {
          "output_type": "execute_result",
          "data": {
            "text/plain": [
              "age         float64\n",
              "interest    float64\n",
              "success     float64\n",
              "dtype: object"
            ]
          },
          "metadata": {},
          "execution_count": 49
        }
      ]
    },
    {
      "cell_type": "markdown",
      "metadata": {
        "id": "OKFfi5Gp6WbD"
      },
      "source": [
        "**E. Apakah data sudah dibagi menjadi data training dan testing(YA/TIDAK) kalau IYA tuliskan  jumlah data training dan testingnya**\n",
        "\n",
        "\n",
        "jawaban: **Tidak**\n",
        "\n"
      ]
    },
    {
      "cell_type": "markdown",
      "metadata": {
        "id": "0lJn4tj_3ZLg"
      },
      "source": [
        "### **2. [10] Berdasarkan dataset yang sudah Anda peroleh dari soal No. 1. Masalah bisnis apa yang  mungkin diselesaikan menggunakan data tersebut?**\n",
        "\n",
        "**Jawaban:** Menguji pendekatan algoritmik baru untuk masalah klasifikasi. Konten dapat diterapkan pada berbagai hal, misalnya seberapa sukses orang yang berbeda belajar olahraga baru.\n",
        "\n"
      ]
    },
    {
      "cell_type": "markdown",
      "metadata": {
        "id": "BnGSNRch5SFv"
      },
      "source": [
        "### **3. [30] Lakukan Eksploratory Data Analysis untuk menemukan 5 insight penting pada data yang Anda  peroleh. Sajikan hal tersebut melalui visualisasi data menggunakan tools visualisasi Python seperti  Matplotlib, Seaborn, dan Plotly!**"
      ]
    },
    {
      "cell_type": "markdown",
      "metadata": {
        "id": "a7ezGKVx_ola"
      },
      "source": [
        "**Eksploratory Data Analysis**"
      ]
    },
    {
      "cell_type": "markdown",
      "metadata": {
        "id": "Omjy9FUQ_xvj"
      },
      "source": [
        "### Dimensi Data"
      ]
    },
    {
      "cell_type": "code",
      "metadata": {
        "colab": {
          "base_uri": "https://localhost:8080/"
        },
        "id": "9Zm7oUMm_27o",
        "outputId": "9f8ec9e6-5f15-4ab6-9da4-354946f5a57e"
      },
      "source": [
        "df.shape"
      ],
      "execution_count": null,
      "outputs": [
        {
          "output_type": "execute_result",
          "data": {
            "text/plain": [
              "(297, 3)"
            ]
          },
          "metadata": {},
          "execution_count": 50
        }
      ]
    },
    {
      "cell_type": "markdown",
      "metadata": {
        "id": "Iv5CZ96p_6zl"
      },
      "source": [
        "Artinya kita memiliki data dengan 3 kolom dan 297 baris"
      ]
    },
    {
      "cell_type": "markdown",
      "metadata": {
        "id": "E4azfezwASN1"
      },
      "source": [
        "### Variabel Pada Dataset"
      ]
    },
    {
      "cell_type": "code",
      "metadata": {
        "id": "S9e7y-I1AgFX",
        "colab": {
          "base_uri": "https://localhost:8080/"
        },
        "outputId": "5ee3e05f-f6f9-4030-9dc1-ac6297f8f452"
      },
      "source": [
        "df.columns.values"
      ],
      "execution_count": null,
      "outputs": [
        {
          "output_type": "execute_result",
          "data": {
            "text/plain": [
              "array(['age', 'interest', 'success'], dtype=object)"
            ]
          },
          "metadata": {},
          "execution_count": 51
        }
      ]
    },
    {
      "cell_type": "code",
      "metadata": {
        "id": "svGx5k9XAhRz",
        "colab": {
          "base_uri": "https://localhost:8080/"
        },
        "outputId": "bf524d7a-86d2-4bd8-a274-da37a2b1d412"
      },
      "source": [
        "df.dtypes"
      ],
      "execution_count": null,
      "outputs": [
        {
          "output_type": "execute_result",
          "data": {
            "text/plain": [
              "age         float64\n",
              "interest    float64\n",
              "success     float64\n",
              "dtype: object"
            ]
          },
          "metadata": {},
          "execution_count": 52
        }
      ]
    },
    {
      "cell_type": "code",
      "metadata": {
        "id": "RfML1G16AkhB",
        "colab": {
          "base_uri": "https://localhost:8080/"
        },
        "outputId": "6305f0f6-2663-41f5-903c-e459b97bc9e4"
      },
      "source": [
        "df.info() "
      ],
      "execution_count": null,
      "outputs": [
        {
          "output_type": "stream",
          "name": "stdout",
          "text": [
            "<class 'pandas.core.frame.DataFrame'>\n",
            "RangeIndex: 297 entries, 0 to 296\n",
            "Data columns (total 3 columns):\n",
            " #   Column    Non-Null Count  Dtype  \n",
            "---  ------    --------------  -----  \n",
            " 0   age       297 non-null    float64\n",
            " 1   interest  297 non-null    float64\n",
            " 2   success   297 non-null    float64\n",
            "dtypes: float64(3)\n",
            "memory usage: 7.1 KB\n"
          ]
        }
      ]
    },
    {
      "cell_type": "markdown",
      "metadata": {
        "id": "5ptcXu6TArxL"
      },
      "source": [
        "Kita dapat mengetahui tipe-tipe data masing-masing variabel dan nama-nama variabel dalam dataset"
      ]
    },
    {
      "cell_type": "markdown",
      "metadata": {
        "id": "T53qJBqpBXSD"
      },
      "source": [
        "### Mengecek Missing Data"
      ]
    },
    {
      "cell_type": "code",
      "metadata": {
        "id": "jPLO3h8FBb56",
        "colab": {
          "base_uri": "https://localhost:8080/"
        },
        "outputId": "f8dcc026-c7b5-4d9a-a8b9-ea9c23cbe0c6"
      },
      "source": [
        "df.isnull().sum()"
      ],
      "execution_count": null,
      "outputs": [
        {
          "output_type": "execute_result",
          "data": {
            "text/plain": [
              "age         0\n",
              "interest    0\n",
              "success     0\n",
              "dtype: int64"
            ]
          },
          "metadata": {},
          "execution_count": 57
        }
      ]
    },
    {
      "cell_type": "code",
      "metadata": {
        "id": "WVB-s1OqBfzN",
        "colab": {
          "base_uri": "https://localhost:8080/",
          "height": 282
        },
        "outputId": "a587b6bf-679c-4e76-a885-c885614a181c"
      },
      "source": [
        "sns.heatmap(df.isnull(),cbar=False,yticklabels=False,cmap = 'viridis')"
      ],
      "execution_count": null,
      "outputs": [
        {
          "output_type": "execute_result",
          "data": {
            "text/plain": [
              "<matplotlib.axes._subplots.AxesSubplot at 0x7f82b36d1b50>"
            ]
          },
          "metadata": {},
          "execution_count": 58
        },
        {
          "output_type": "display_data",
          "data": {
            "image/png": "[encoded data removed]",
            "text/plain": [
              "<Figure size 432x288 with 1 Axes>"
            ]
          },
          "metadata": {
            "needs_background": "light"
          }
        }
      ]
    },
    {
      "cell_type": "markdown",
      "metadata": {
        "id": "9nbpgK4HCGOf"
      },
      "source": [
        "### Mengecek Outlier"
      ]
    },
    {
      "cell_type": "code",
      "metadata": {
        "id": "1j3XwHqoCTZX",
        "colab": {
          "base_uri": "https://localhost:8080/",
          "height": 297
        },
        "outputId": "c63a2027-27bf-47b0-81ea-3d35347b7906"
      },
      "source": [
        "df1=df.select_dtypes(include=['float64', 'int64'])#Memilih kolom numerik\n",
        "\n",
        "sns.boxplot(x=\"variable\", y=\"value\", color='green',orient='v', data=pd.melt(df1))\n",
        "plt.tight_layout()\n"
      ],
      "execution_count": null,
      "outputs": [
        {
          "output_type": "display_data",
          "data": {
            "image/png": "[encoded data removed]",
            "text/plain": [
              "<Figure size 432x288 with 1 Axes>"
            ]
          },
          "metadata": {
            "needs_background": "light"
          }
        }
      ]
    },
    {
      "cell_type": "markdown",
      "metadata": {
        "id": "APJWcMVsCUiJ"
      },
      "source": [
        "### Melihat Korelasi Data"
      ]
    },
    {
      "cell_type": "code",
      "metadata": {
        "id": "s3Y-KEDGCZTQ",
        "colab": {
          "base_uri": "https://localhost:8080/",
          "height": 395
        },
        "outputId": "bc69539a-96f9-41e2-8887-68a321b4cd1d"
      },
      "source": [
        "k = len(df1.columns)\n",
        "cm = df1.corr()\n",
        "plt.figure(figsize=(10,6))\n",
        "sns.heatmap(cm, annot=True, cmap = 'viridis')"
      ],
      "execution_count": null,
      "outputs": [
        {
          "output_type": "execute_result",
          "data": {
            "text/plain": [
              "<matplotlib.axes._subplots.AxesSubplot at 0x7f82b8731510>"
            ]
          },
          "metadata": {},
          "execution_count": 61
        },
        {
          "output_type": "display_data",
          "data": {
            "image/png": "[encoded data removed]",
            "text/plain": [
              "<Figure size 720x432 with 2 Axes>"
            ]
          },
          "metadata": {
            "needs_background": "light"
          }
        }
      ]
    },
    {
      "cell_type": "markdown",
      "metadata": {
        "id": "AE1JG9qTCoMo"
      },
      "source": [
        "### Melihat Statistik Data"
      ]
    },
    {
      "cell_type": "code",
      "metadata": {
        "id": "u1Ve594pCteo",
        "colab": {
          "base_uri": "https://localhost:8080/",
          "height": 297
        },
        "outputId": "bfeaab0d-40a7-465b-a4cd-731c6b3fd5f1"
      },
      "source": [
        "df.describe()"
      ],
      "execution_count": null,
      "outputs": [
        {
          "output_type": "execute_result",
          "data": {
            "text/html": [
              "<div>\n",
              "<style scoped>\n",
              "    .dataframe tbody tr th:only-of-type {\n",
              "        vertical-align: middle;\n",
              "    }\n",
              "\n",
              "    .dataframe tbody tr th {\n",
              "        vertical-align: top;\n",
              "    }\n",
              "\n",
              "    .dataframe thead th {\n",
              "        text-align: right;\n",
              "    }\n",
              "</style>\n",
              "<table border=\"1\" class=\"dataframe\">\n",
              "  <thead>\n",
              "    <tr style=\"text-align: right;\">\n",
              "      <th></th>\n",
              "      <th>age</th>\n",
              "      <th>interest</th>\n",
              "      <th>success</th>\n",
              "    </tr>\n",
              "  </thead>\n",
              "  <tbody>\n",
              "    <tr>\n",
              "      <th>count</th>\n",
              "      <td>297.000000</td>\n",
              "      <td>297.000000</td>\n",
              "      <td>297.000000</td>\n",
              "    </tr>\n",
              "    <tr>\n",
              "      <th>mean</th>\n",
              "      <td>23.709718</td>\n",
              "      <td>46.986527</td>\n",
              "      <td>0.569024</td>\n",
              "    </tr>\n",
              "    <tr>\n",
              "      <th>std</th>\n",
              "      <td>8.864000</td>\n",
              "      <td>21.956447</td>\n",
              "      <td>0.496049</td>\n",
              "    </tr>\n",
              "    <tr>\n",
              "      <th>min</th>\n",
              "      <td>2.347560</td>\n",
              "      <td>-0.852800</td>\n",
              "      <td>0.000000</td>\n",
              "    </tr>\n",
              "    <tr>\n",
              "      <th>25%</th>\n",
              "      <td>17.002148</td>\n",
              "      <td>28.689067</td>\n",
              "      <td>0.000000</td>\n",
              "    </tr>\n",
              "    <tr>\n",
              "      <th>50%</th>\n",
              "      <td>23.283644</td>\n",
              "      <td>45.695926</td>\n",
              "      <td>1.000000</td>\n",
              "    </tr>\n",
              "    <tr>\n",
              "      <th>75%</th>\n",
              "      <td>30.661149</td>\n",
              "      <td>65.171876</td>\n",
              "      <td>1.000000</td>\n",
              "    </tr>\n",
              "    <tr>\n",
              "      <th>max</th>\n",
              "      <td>45.773729</td>\n",
              "      <td>97.175508</td>\n",
              "      <td>1.000000</td>\n",
              "    </tr>\n",
              "  </tbody>\n",
              "</table>\n",
              "</div>"
            ],
            "text/plain": [
              "              age    interest     success\n",
              "count  297.000000  297.000000  297.000000\n",
              "mean    23.709718   46.986527    0.569024\n",
              "std      8.864000   21.956447    0.496049\n",
              "min      2.347560   -0.852800    0.000000\n",
              "25%     17.002148   28.689067    0.000000\n",
              "50%     23.283644   45.695926    1.000000\n",
              "75%     30.661149   65.171876    1.000000\n",
              "max     45.773729   97.175508    1.000000"
            ]
          },
          "metadata": {},
          "execution_count": 62
        }
      ]
    },
    {
      "cell_type": "markdown",
      "metadata": {
        "id": "tuVRd3oICzIz"
      },
      "source": [
        "### Plot Distribusi Data Numerik"
      ]
    },
    {
      "cell_type": "code",
      "metadata": {
        "id": "-yyw5TtzC3Ul",
        "colab": {
          "base_uri": "https://localhost:8080/",
          "height": 397
        },
        "outputId": "33614f2b-740a-4665-c581-2ca0e99d6776"
      },
      "source": [
        "l = df1.columns.values\n",
        "number_of_columns=len(df1.columns)\n",
        "number_of_rows = len(l)-1/number_of_columns\n",
        "plt.figure(figsize=(2*number_of_columns,5*number_of_rows))\n",
        "for i in range(0,len(l)):\n",
        "    plt.subplot(number_of_rows + 1,number_of_columns,i+1)\n",
        "    sns.distplot(df[l[i]],kde=True) "
      ],
      "execution_count": null,
      "outputs": [
        {
          "output_type": "stream",
          "name": "stderr",
          "text": [
            "/usr/local/lib/python3.7/dist-packages/seaborn/distributions.py:2619: FutureWarning: `distplot` is a deprecated function and will be removed in a future version. Please adapt your code to use either `displot` (a figure-level function with similar flexibility) or `histplot` (an axes-level function for histograms).\n",
            "  warnings.warn(msg, FutureWarning)\n",
            "/usr/local/lib/python3.7/dist-packages/seaborn/distributions.py:2619: FutureWarning: `distplot` is a deprecated function and will be removed in a future version. Please adapt your code to use either `displot` (a figure-level function with similar flexibility) or `histplot` (an axes-level function for histograms).\n",
            "  warnings.warn(msg, FutureWarning)\n",
            "/usr/local/lib/python3.7/dist-packages/seaborn/distributions.py:2619: FutureWarning: `distplot` is a deprecated function and will be removed in a future version. Please adapt your code to use either `displot` (a figure-level function with similar flexibility) or `histplot` (an axes-level function for histograms).\n",
            "  warnings.warn(msg, FutureWarning)\n"
          ]
        },
        {
          "output_type": "display_data",
          "data": {
            "image/png": "[encoded data removed]",
            "text/plain": [
              "<Figure size 432x960 with 3 Axes>"
            ]
          },
          "metadata": {
            "needs_background": "light"
          }
        }
      ]
    },
    {
      "cell_type": "markdown",
      "metadata": {
        "id": "Aq_odfLqC8uL"
      },
      "source": [
        "### Pairplot"
      ]
    },
    {
      "cell_type": "code",
      "metadata": {
        "id": "lNyIXtD_DCVC",
        "colab": {
          "base_uri": "https://localhost:8080/",
          "height": 374
        },
        "outputId": "8eb708c9-4898-4554-c87c-64dd024be032"
      },
      "source": [
        "g = sns.pairplot(df1, hue=\"success\")"
      ],
      "execution_count": null,
      "outputs": [
        {
          "output_type": "display_data",
          "data": {
            "image/png": "[encoded data removed]",
            "text/plain": [
              "<Figure size 411.875x360 with 6 Axes>"
            ]
          },
          "metadata": {
            "needs_background": "light"
          }
        }
      ]
    },
    {
      "cell_type": "markdown",
      "metadata": {
        "id": "xPnQjos85T1U"
      },
      "source": [
        "### **4. [40] Lakukan Data Preprocesing pada data yang Anda peroleh sebagai berikut:**"
      ]
    },
    {
      "cell_type": "markdown",
      "metadata": {
        "id": "OdumSW2B_aj8"
      },
      "source": [
        "**A. Lakukan standarisasi nama kolom, yaitu menggunakan huruf kecil dan spasi diganti dengan garis bawah. Contoh: Kolom 1 menjadi kolom_1**\n",
        "\n",
        "**Jawaban:** Tidak terdapat missing data\n",
        "\n"
      ]
    },
    {
      "cell_type": "markdown",
      "metadata": {
        "id": "fDYiaZH8AqP9"
      },
      "source": [
        "**B. Adakah data kosong pada data yang Anda miliki?, jika ada lakukan pengisian data kosong, tuliskan alasan anda mengapa Anda memilih sebuah cara tertentu untuk mengisi data kosong tersebut!**\n",
        "\n",
        "\n",
        "**Jawaban:** Tidak terdapat missing data\n",
        "\n",
        "\n",
        "\n"
      ]
    },
    {
      "cell_type": "markdown",
      "metadata": {
        "id": "Ofx4zi89Azkt"
      },
      "source": [
        "**C. Adakah outlier pada data yang Anda miliki? Jika ada lakukan penghapusan outlier!**"
      ]
    },
    {
      "cell_type": "code",
      "metadata": {
        "colab": {
          "base_uri": "https://localhost:8080/"
        },
        "id": "Vb6sL2OTCcrM",
        "outputId": "124f1163-3863-4a47-fe6f-68588bba8a11"
      },
      "source": [
        "#Menghitung Skor IQR\n",
        "sorted(df)\n",
        "\n",
        "Q1=df.quantile(0.25)\n",
        "Q3=df.quantile(0.75)\n",
        "IQR=Q3-Q1\n",
        "print(IQR)"
      ],
      "execution_count": null,
      "outputs": [
        {
          "output_type": "stream",
          "name": "stdout",
          "text": [
            "age         13.659001\n",
            "interest    36.482809\n",
            "success      1.000000\n",
            "dtype: float64\n"
          ]
        }
      ]
    },
    {
      "cell_type": "code",
      "metadata": {
        "colab": {
          "base_uri": "https://localhost:8080/",
          "height": 419
        },
        "id": "0v1V3wCICdoH",
        "outputId": "f8764e4b-3e4c-4483-c5cb-036b2148a50d"
      },
      "source": [
        "#Menghapus Outlier\n",
        "df_clear = df[~((df < (Q1 - 1.5 * IQR)) |(df > (Q3 + 1.5 * IQR))).any(axis=1)]\n",
        "df_clear"
      ],
      "execution_count": null,
      "outputs": [
        {
          "output_type": "execute_result",
          "data": {
            "text/html": [
              "<div>\n",
              "<style scoped>\n",
              "    .dataframe tbody tr th:only-of-type {\n",
              "        vertical-align: middle;\n",
              "    }\n",
              "\n",
              "    .dataframe tbody tr th {\n",
              "        vertical-align: top;\n",
              "    }\n",
              "\n",
              "    .dataframe thead th {\n",
              "        text-align: right;\n",
              "    }\n",
              "</style>\n",
              "<table border=\"1\" class=\"dataframe\">\n",
              "  <thead>\n",
              "    <tr style=\"text-align: right;\">\n",
              "      <th></th>\n",
              "      <th>age</th>\n",
              "      <th>interest</th>\n",
              "      <th>success</th>\n",
              "    </tr>\n",
              "  </thead>\n",
              "  <tbody>\n",
              "    <tr>\n",
              "      <th>0</th>\n",
              "      <td>23.657801</td>\n",
              "      <td>18.859917</td>\n",
              "      <td>0.0</td>\n",
              "    </tr>\n",
              "    <tr>\n",
              "      <th>1</th>\n",
              "      <td>22.573729</td>\n",
              "      <td>17.969223</td>\n",
              "      <td>0.0</td>\n",
              "    </tr>\n",
              "    <tr>\n",
              "      <th>2</th>\n",
              "      <td>32.553424</td>\n",
              "      <td>29.463651</td>\n",
              "      <td>0.0</td>\n",
              "    </tr>\n",
              "    <tr>\n",
              "      <th>3</th>\n",
              "      <td>6.718035</td>\n",
              "      <td>25.704665</td>\n",
              "      <td>1.0</td>\n",
              "    </tr>\n",
              "    <tr>\n",
              "      <th>4</th>\n",
              "      <td>14.401919</td>\n",
              "      <td>16.770856</td>\n",
              "      <td>0.0</td>\n",
              "    </tr>\n",
              "    <tr>\n",
              "      <th>...</th>\n",
              "      <td>...</td>\n",
              "      <td>...</td>\n",
              "      <td>...</td>\n",
              "    </tr>\n",
              "    <tr>\n",
              "      <th>292</th>\n",
              "      <td>27.697220</td>\n",
              "      <td>18.799309</td>\n",
              "      <td>0.0</td>\n",
              "    </tr>\n",
              "    <tr>\n",
              "      <th>293</th>\n",
              "      <td>15.150959</td>\n",
              "      <td>72.000352</td>\n",
              "      <td>1.0</td>\n",
              "    </tr>\n",
              "    <tr>\n",
              "      <th>294</th>\n",
              "      <td>22.264378</td>\n",
              "      <td>68.453459</td>\n",
              "      <td>1.0</td>\n",
              "    </tr>\n",
              "    <tr>\n",
              "      <th>295</th>\n",
              "      <td>25.677420</td>\n",
              "      <td>90.118212</td>\n",
              "      <td>1.0</td>\n",
              "    </tr>\n",
              "    <tr>\n",
              "      <th>296</th>\n",
              "      <td>21.215594</td>\n",
              "      <td>48.265520</td>\n",
              "      <td>1.0</td>\n",
              "    </tr>\n",
              "  </tbody>\n",
              "</table>\n",
              "<p>297 rows × 3 columns</p>\n",
              "</div>"
            ],
            "text/plain": [
              "           age   interest  success\n",
              "0    23.657801  18.859917      0.0\n",
              "1    22.573729  17.969223      0.0\n",
              "2    32.553424  29.463651      0.0\n",
              "3     6.718035  25.704665      1.0\n",
              "4    14.401919  16.770856      0.0\n",
              "..         ...        ...      ...\n",
              "292  27.697220  18.799309      0.0\n",
              "293  15.150959  72.000352      1.0\n",
              "294  22.264378  68.453459      1.0\n",
              "295  25.677420  90.118212      1.0\n",
              "296  21.215594  48.265520      1.0\n",
              "\n",
              "[297 rows x 3 columns]"
            ]
          },
          "metadata": {},
          "execution_count": 67
        }
      ]
    },
    {
      "cell_type": "code",
      "metadata": {
        "colab": {
          "base_uri": "https://localhost:8080/",
          "height": 279
        },
        "id": "6xeEWJMZCd44",
        "outputId": "0bc18e39-344e-485b-adc3-4bd6754266e4"
      },
      "source": [
        "#Melihat Outlier\n",
        "sns.boxplot(x=\"variable\", y=\"value\", color='green',orient='v', data=pd.melt(df_clear))\n",
        "\n",
        "plt.show()"
      ],
      "execution_count": null,
      "outputs": [
        {
          "output_type": "display_data",
          "data": {
            "image/png": "[encoded data removed]",
            "text/plain": [
              "<Figure size 432x288 with 1 Axes>"
            ]
          },
          "metadata": {
            "needs_background": "light"
          }
        }
      ]
    },
    {
      "cell_type": "markdown",
      "metadata": {
        "id": "lD2zPsYQBCT5"
      },
      "source": [
        "**D. Lakukan plot histogram distribusi pada setiap fitur pada data Anda. Jika terindikasi bukan berdistribusi normal. Lakukan normalisasi pada fitur tersebut!**"
      ]
    },
    {
      "cell_type": "code",
      "metadata": {
        "colab": {
          "base_uri": "https://localhost:8080/",
          "height": 397
        },
        "id": "cUn6lyYmG4ut",
        "outputId": "5762a5d5-d969-4a76-87e3-fb7e4ede6fd1"
      },
      "source": [
        "l = df1.columns.values\n",
        "number_of_columns=len(df1.columns)\n",
        "number_of_rows = len(l)-1/number_of_columns\n",
        "plt.figure(figsize=(2*number_of_columns,5*number_of_rows))\n",
        "for i in range(0,len(l)):\n",
        "    plt.subplot(number_of_rows + 1,number_of_columns,i+1)\n",
        "    sns.distplot(df[l[i]],kde=True) "
      ],
      "execution_count": null,
      "outputs": [
        {
          "output_type": "stream",
          "name": "stderr",
          "text": [
            "/usr/local/lib/python3.7/dist-packages/seaborn/distributions.py:2619: FutureWarning: `distplot` is a deprecated function and will be removed in a future version. Please adapt your code to use either `displot` (a figure-level function with similar flexibility) or `histplot` (an axes-level function for histograms).\n",
            "  warnings.warn(msg, FutureWarning)\n",
            "/usr/local/lib/python3.7/dist-packages/seaborn/distributions.py:2619: FutureWarning: `distplot` is a deprecated function and will be removed in a future version. Please adapt your code to use either `displot` (a figure-level function with similar flexibility) or `histplot` (an axes-level function for histograms).\n",
            "  warnings.warn(msg, FutureWarning)\n",
            "/usr/local/lib/python3.7/dist-packages/seaborn/distributions.py:2619: FutureWarning: `distplot` is a deprecated function and will be removed in a future version. Please adapt your code to use either `displot` (a figure-level function with similar flexibility) or `histplot` (an axes-level function for histograms).\n",
            "  warnings.warn(msg, FutureWarning)\n"
          ]
        },
        {
          "output_type": "display_data",
          "data": {
            "image/png": "[encoded data removed]",
            "text/plain": [
              "<Figure size 432x960 with 3 Axes>"
            ]
          },
          "metadata": {
            "needs_background": "light"
          }
        }
      ]
    },
    {
      "cell_type": "code",
      "metadata": {
        "colab": {
          "base_uri": "https://localhost:8080/",
          "height": 419
        },
        "id": "J233r6G4Cxiw",
        "outputId": "0c445218-2c43-4f9d-f7f5-a0a0785a1da4"
      },
      "source": [
        "#Normalisasi data dengan MinMaxScaler\n",
        "from sklearn.preprocessing import MinMaxScaler\n",
        "\n",
        "scaler = MinMaxScaler()\n",
        "df_norm = pd.DataFrame(scaler.fit_transform(df_clear), columns=df_clear.columns)\n",
        "\n",
        "df_norm"
      ],
      "execution_count": null,
      "outputs": [
        {
          "output_type": "execute_result",
          "data": {
            "text/html": [
              "<div>\n",
              "<style scoped>\n",
              "    .dataframe tbody tr th:only-of-type {\n",
              "        vertical-align: middle;\n",
              "    }\n",
              "\n",
              "    .dataframe tbody tr th {\n",
              "        vertical-align: top;\n",
              "    }\n",
              "\n",
              "    .dataframe thead th {\n",
              "        text-align: right;\n",
              "    }\n",
              "</style>\n",
              "<table border=\"1\" class=\"dataframe\">\n",
              "  <thead>\n",
              "    <tr style=\"text-align: right;\">\n",
              "      <th></th>\n",
              "      <th>age</th>\n",
              "      <th>interest</th>\n",
              "      <th>success</th>\n",
              "    </tr>\n",
              "  </thead>\n",
              "  <tbody>\n",
              "    <tr>\n",
              "      <th>0</th>\n",
              "      <td>0.490723</td>\n",
              "      <td>0.201092</td>\n",
              "      <td>0.0</td>\n",
              "    </tr>\n",
              "    <tr>\n",
              "      <th>1</th>\n",
              "      <td>0.465760</td>\n",
              "      <td>0.192006</td>\n",
              "      <td>0.0</td>\n",
              "    </tr>\n",
              "    <tr>\n",
              "      <th>2</th>\n",
              "      <td>0.695568</td>\n",
              "      <td>0.309262</td>\n",
              "      <td>0.0</td>\n",
              "    </tr>\n",
              "    <tr>\n",
              "      <th>3</th>\n",
              "      <td>0.100642</td>\n",
              "      <td>0.270916</td>\n",
              "      <td>1.0</td>\n",
              "    </tr>\n",
              "    <tr>\n",
              "      <th>4</th>\n",
              "      <td>0.277583</td>\n",
              "      <td>0.179781</td>\n",
              "      <td>0.0</td>\n",
              "    </tr>\n",
              "    <tr>\n",
              "      <th>...</th>\n",
              "      <td>...</td>\n",
              "      <td>...</td>\n",
              "      <td>...</td>\n",
              "    </tr>\n",
              "    <tr>\n",
              "      <th>292</th>\n",
              "      <td>0.583742</td>\n",
              "      <td>0.200474</td>\n",
              "      <td>0.0</td>\n",
              "    </tr>\n",
              "    <tr>\n",
              "      <th>293</th>\n",
              "      <td>0.294831</td>\n",
              "      <td>0.743185</td>\n",
              "      <td>1.0</td>\n",
              "    </tr>\n",
              "    <tr>\n",
              "      <th>294</th>\n",
              "      <td>0.458636</td>\n",
              "      <td>0.707003</td>\n",
              "      <td>1.0</td>\n",
              "    </tr>\n",
              "    <tr>\n",
              "      <th>295</th>\n",
              "      <td>0.537230</td>\n",
              "      <td>0.928008</td>\n",
              "      <td>1.0</td>\n",
              "    </tr>\n",
              "    <tr>\n",
              "      <th>296</th>\n",
              "      <td>0.434485</td>\n",
              "      <td>0.501063</td>\n",
              "      <td>1.0</td>\n",
              "    </tr>\n",
              "  </tbody>\n",
              "</table>\n",
              "<p>297 rows × 3 columns</p>\n",
              "</div>"
            ],
            "text/plain": [
              "          age  interest  success\n",
              "0    0.490723  0.201092      0.0\n",
              "1    0.465760  0.192006      0.0\n",
              "2    0.695568  0.309262      0.0\n",
              "3    0.100642  0.270916      1.0\n",
              "4    0.277583  0.179781      0.0\n",
              "..        ...       ...      ...\n",
              "292  0.583742  0.200474      0.0\n",
              "293  0.294831  0.743185      1.0\n",
              "294  0.458636  0.707003      1.0\n",
              "295  0.537230  0.928008      1.0\n",
              "296  0.434485  0.501063      1.0\n",
              "\n",
              "[297 rows x 3 columns]"
            ]
          },
          "metadata": {},
          "execution_count": 70
        }
      ]
    },
    {
      "cell_type": "markdown",
      "metadata": {
        "id": "531X6Aa_BJzp"
      },
      "source": [
        "**E. Jika data Anda belum dibagi manjadi data Training & Testing, lakukan pembagian data training dan testing dengan perbandingan 80:20!**"
      ]
    },
    {
      "cell_type": "code",
      "metadata": {
        "colab": {
          "base_uri": "https://localhost:8080/"
        },
        "id": "W5h9nKp-IjDv",
        "outputId": "31545ad9-ae10-45af-8c89-6fd24d449550"
      },
      "source": [
        "y=df_norm['success']\n",
        "X=df_norm.drop(columns=['success'])\n",
        "\n",
        "#Mengubah data menjadi array\n",
        "y=np.array(y)\n",
        "X=np.array(X)\n",
        "\n",
        "print(y)\n",
        "print(X)"
      ],
      "execution_count": null,
      "outputs": [
        {
          "output_type": "stream",
          "name": "stdout",
          "text": [
            "[0. 0. 0. 1. 0. 0. 1. 1. 0. 1. 1. 0. 0. 1. 0. 1. 1. 0. 1. 1. 0. 1. 1. 1.\n",
            " 1. 1. 0. 0. 1. 1. 1. 0. 1. 1. 0. 1. 1. 1. 0. 1. 1. 1. 0. 1. 1. 1. 1. 0.\n",
            " 1. 1. 1. 0. 1. 0. 1. 0. 1. 1. 0. 0. 1. 0. 1. 1. 1. 1. 1. 0. 1. 1. 1. 0.\n",
            " 1. 0. 0. 1. 1. 1. 1. 0. 1. 0. 1. 1. 0. 1. 0. 0. 1. 0. 0. 0. 1. 1. 0. 1.\n",
            " 1. 1. 0. 0. 1. 1. 1. 0. 0. 0. 1. 1. 1. 1. 1. 1. 1. 1. 1. 1. 1. 1. 0. 1.\n",
            " 0. 0. 0. 1. 1. 1. 1. 0. 1. 1. 0. 0. 0. 0. 1. 1. 0. 0. 0. 1. 1. 0. 0. 1.\n",
            " 0. 1. 1. 0. 0. 0. 0. 0. 0. 0. 1. 0. 0. 0. 1. 0. 0. 0. 1. 1. 1. 1. 0. 0.\n",
            " 1. 0. 1. 1. 1. 0. 1. 1. 1. 0. 0. 1. 0. 0. 0. 1. 1. 0. 1. 1. 0. 1. 0. 1.\n",
            " 1. 0. 0. 1. 1. 0. 0. 0. 0. 1. 1. 0. 0. 1. 1. 1. 0. 1. 1. 1. 1. 1. 1. 0.\n",
            " 1. 1. 0. 1. 0. 1. 0. 1. 1. 0. 1. 0. 1. 1. 1. 1. 1. 1. 1. 0. 1. 0. 0. 0.\n",
            " 1. 1. 1. 0. 1. 0. 0. 1. 0. 1. 0. 1. 1. 1. 1. 0. 0. 1. 1. 0. 0. 0. 1. 1.\n",
            " 0. 1. 0. 0. 1. 0. 1. 0. 0. 1. 1. 0. 1. 1. 1. 1. 1. 1. 0. 1. 0. 0. 0. 0.\n",
            " 0. 0. 0. 0. 0. 1. 1. 1. 1.]\n",
            "[[0.49072348 0.20109209]\n",
            " [0.46575993 0.192006  ]\n",
            " [0.69556825 0.30926222]\n",
            " [0.10064151 0.27091629]\n",
            " [0.27758283 0.1797813 ]\n",
            " [0.34795488 0.23072942]\n",
            " [0.40713722 0.75801839]\n",
            " [0.64356537 0.65036227]\n",
            " [0.29432525 0.33924361]\n",
            " [0.64090152 0.61038789]\n",
            " [0.59109375 0.66083579]\n",
            " [0.33261692 0.44056278]\n",
            " [0.18965832 0.20883832]\n",
            " [0.55926847 0.94685964]\n",
            " [0.54967568 0.38002384]\n",
            " [0.35328553 0.62890784]\n",
            " [0.70981114 0.68965359]\n",
            " [0.49385874 0.2389903 ]\n",
            " [0.81740861 0.37921112]\n",
            " [0.75562259 0.34700947]\n",
            " [0.62251253 0.26661455]\n",
            " [0.67497032 0.75477009]\n",
            " [0.46166358 0.99331685]\n",
            " [0.9169314  0.37212225]\n",
            " [0.45797164 0.5919109 ]\n",
            " [0.71831602 0.68158961]\n",
            " [0.50762227 0.19739415]\n",
            " [0.23222455 0.23286302]\n",
            " [0.65199371 0.74136994]\n",
            " [0.60237685 0.71455969]\n",
            " [0.84989509 0.74606375]\n",
            " [0.34364148 0.18941394]\n",
            " [0.37515608 0.6204449 ]\n",
            " [0.35794172 0.90197051]\n",
            " [0.73004657 0.3332068 ]\n",
            " [0.75723769 0.341485  ]\n",
            " [0.78600687 0.68461447]\n",
            " [0.39164917 0.64960261]\n",
            " [0.23649176 0.19302915]\n",
            " [0.69297765 0.71198164]\n",
            " [0.22410721 0.70963387]\n",
            " [0.39328515 0.63978159]\n",
            " [0.25937642 0.34425165]\n",
            " [0.79795576 0.32749526]\n",
            " [0.3454377  0.60196096]\n",
            " [0.75194741 0.64681743]\n",
            " [0.43726739 0.74055296]\n",
            " [0.40911735 0.2945541 ]\n",
            " [0.7776785  0.41757076]\n",
            " [0.23543744 0.45386382]\n",
            " [0.55376975 0.66207661]\n",
            " [0.15744746 0.38341014]\n",
            " [0.76841137 0.29830913]\n",
            " [0.16844167 0.64832242]\n",
            " [0.55293065 0.62608684]\n",
            " [0.40888323 0.44602253]\n",
            " [0.75296253 0.25968039]\n",
            " [0.68786976 0.71660804]\n",
            " [0.72648073 0.30886806]\n",
            " [0.45621364 0.36739743]\n",
            " [0.37966762 0.67351869]\n",
            " [0.54933848 0.2307805 ]\n",
            " [0.53666103 0.58431708]\n",
            " [0.33822139 0.76365959]\n",
            " [0.3061261  0.60864962]\n",
            " [0.6102311  0.67352663]\n",
            " [0.41384089 0.63531723]\n",
            " [0.49121651 0.35980721]\n",
            " [0.25112679 0.7721352 ]\n",
            " [0.73927131 0.82997763]\n",
            " [0.74735811 0.3467024 ]\n",
            " [0.45510655 0.19242356]\n",
            " [0.82353484 0.73322003]\n",
            " [0.47450077 0.4282953 ]\n",
            " [0.64000386 0.11431088]\n",
            " [0.29507141 0.56116745]\n",
            " [0.51741367 1.        ]\n",
            " [0.60482024 0.68919406]\n",
            " [0.39148012 0.76237967]\n",
            " [0.41853029 0.33735588]\n",
            " [0.25014021 0.53974529]\n",
            " [0.46361824 0.17495642]\n",
            " [0.47321864 0.77515159]\n",
            " [0.80449648 0.79734138]\n",
            " [0.60339135 0.26282428]\n",
            " [0.25230841 0.58611102]\n",
            " [0.24682442 0.14911612]\n",
            " [0.65924136 0.30626672]\n",
            " [0.55054666 0.80387895]\n",
            " [0.59834981 0.30206444]\n",
            " [0.54142444 0.26809768]\n",
            " [0.49411168 0.26923063]\n",
            " [0.51474335 0.65755181]\n",
            " [0.65346816 0.63494537]\n",
            " [0.68016806 0.32869067]\n",
            " [0.7669825  0.33927445]\n",
            " [0.38380383 0.6168898 ]\n",
            " [0.53842321 0.67495624]\n",
            " [0.14849456 0.18508427]\n",
            " [0.55738569 0.21673207]\n",
            " [0.84931822 0.79169673]\n",
            " [0.73919461 0.66847036]\n",
            " [0.82221121 0.41471431]\n",
            " [0.67554207 0.58734163]\n",
            " [0.45286453 0.34914248]\n",
            " [0.53468355 0.2611125 ]\n",
            " [0.7065747  0.68526656]\n",
            " [0.43790803 0.74386784]\n",
            " [0.36880005 0.57300755]\n",
            " [0.37486997 0.74638649]\n",
            " [0.9392094  0.64789557]\n",
            " [0.33704763 0.75467032]\n",
            " [0.27949681 0.31076665]\n",
            " [0.26636339 0.51594884]\n",
            " [0.58586258 0.27037368]\n",
            " [0.39612584 0.92630709]\n",
            " [0.22255444 0.52769948]\n",
            " [0.77634404 0.28568673]\n",
            " [0.21522226 0.21605584]\n",
            " [0.59170807 0.98987878]\n",
            " [0.55828164 0.50436063]\n",
            " [0.48645876 0.3472519 ]\n",
            " [0.71981277 0.31524298]\n",
            " [0.26770407 0.39347298]\n",
            " [0.65450192 0.53981111]\n",
            " [0.75224146 0.32445889]\n",
            " [0.31398772 0.86661247]\n",
            " [0.4404769  0.48704835]\n",
            " [0.84599186 0.84882216]\n",
            " [0.76950194 0.66277406]\n",
            " [0.73924406 0.38381718]\n",
            " [0.38273517 0.42960246]\n",
            " [0.64803045 0.30673292]\n",
            " [0.32789472 0.42386038]\n",
            " [1.         0.69106755]\n",
            " [0.3784305  0.83698944]\n",
            " [0.30657354 0.67915061]\n",
            " [0.         0.25303246]\n",
            " [0.47935976 0.41211725]\n",
            " [0.76750551 0.72139221]\n",
            " [0.558343   0.65728289]\n",
            " [0.39200078 0.        ]\n",
            " [0.42772282 0.34660075]\n",
            " [0.55090963 0.77155444]\n",
            " [0.73690776 0.37156312]\n",
            " [0.83060002 0.67569184]\n",
            " [0.80784341 0.37723023]\n",
            " [0.64587653 0.22836081]\n",
            " [0.73542138 0.31486542]\n",
            " [0.66860947 0.39147948]\n",
            " [0.43793513 0.38695182]\n",
            " [0.13926818 0.16400955]\n",
            " [0.59396254 0.27054568]\n",
            " [0.64526181 0.32433334]\n",
            " [0.37810758 0.61788749]\n",
            " [0.09918118 0.27972195]\n",
            " [0.1292519  0.36138764]\n",
            " [0.44388967 0.23412259]\n",
            " [0.28497346 0.85770164]\n",
            " [0.56635554 0.36136481]\n",
            " [0.23819843 0.28724785]\n",
            " [0.67020974 0.34623801]\n",
            " [0.60895946 0.59314647]\n",
            " [0.07843592 0.56744414]\n",
            " [0.38020824 0.55729335]\n",
            " [0.49310583 0.67912489]\n",
            " [0.33740519 0.39787836]\n",
            " [0.40090161 0.1799649 ]\n",
            " [0.32008563 0.90363527]\n",
            " [0.73753761 0.32277677]\n",
            " [0.16279191 0.42236042]\n",
            " [0.60487311 0.74784208]\n",
            " [0.05996365 0.5015026 ]\n",
            " [0.36376601 0.03376095]\n",
            " [0.74444734 0.36334216]\n",
            " [0.15450265 0.55160575]\n",
            " [0.81497969 0.34098858]\n",
            " [0.47999676 0.22531331]\n",
            " [0.63979736 0.26952001]\n",
            " [0.74410163 0.7334595 ]\n",
            " [0.29090743 0.32703778]\n",
            " [0.42241564 0.31995785]\n",
            " [0.61730499 0.21416142]\n",
            " [0.46149063 0.88555894]\n",
            " [0.5304101  0.80199938]\n",
            " [0.72766074 0.27121167]\n",
            " [0.45341624 0.7245181 ]\n",
            " [0.38335149 0.94789648]\n",
            " [0.63406123 0.32267564]\n",
            " [0.66565747 0.66958663]\n",
            " [0.12245948 0.09377448]\n",
            " [0.30464088 0.70865577]\n",
            " [0.50886143 0.65279808]\n",
            " [0.1382596  0.21454796]\n",
            " [0.19771454 0.37810695]\n",
            " [0.74971197 0.36361416]\n",
            " [0.72178365 0.67107646]\n",
            " [0.60145542 0.28854918]\n",
            " [0.0809105  0.19260427]\n",
            " [0.33832204 0.54108443]\n",
            " [0.16382516 0.19847383]\n",
            " [0.69368757 0.75189726]\n",
            " [0.58107846 0.70429951]\n",
            " [0.33745984 0.21131778]\n",
            " [0.67289064 0.45561019]\n",
            " [0.49226911 0.78454721]\n",
            " [0.36567728 0.52409428]\n",
            " [0.87563707 0.33204292]\n",
            " [0.63970587 0.24059732]\n",
            " [0.72826813 0.90508142]\n",
            " [0.59416519 0.68302334]\n",
            " [0.23408787 0.53466724]\n",
            " [0.65217309 0.62857088]\n",
            " [0.35608057 0.56435176]\n",
            " [0.3696702  0.54721011]\n",
            " [0.31749077 0.26887702]\n",
            " [0.41923026 0.52406641]\n",
            " [0.3299432  0.48471362]\n",
            " [0.47993866 0.4655261 ]\n",
            " [0.11910887 0.60291337]\n",
            " [0.68354087 0.28101723]\n",
            " [0.51225142 0.75351893]\n",
            " [0.38081678 0.30136058]\n",
            " [0.61974704 0.68443132]\n",
            " [0.74555195 0.72198978]\n",
            " [0.33124098 0.25664735]\n",
            " [0.42506031 0.6906798 ]\n",
            " [0.48210756 0.4230087 ]\n",
            " [0.47585923 0.76849142]\n",
            " [0.9359136  0.69513057]\n",
            " [0.18814639 0.59343466]\n",
            " [0.26707491 0.66148976]\n",
            " [0.2187571  0.76741154]\n",
            " [0.33414076 0.49844033]\n",
            " [0.76669243 0.36332921]\n",
            " [0.3672394  0.33022951]\n",
            " [0.3675423  0.55961069]\n",
            " [0.61326352 0.26671632]\n",
            " [0.40902223 0.25408288]\n",
            " [0.32256406 0.1880083 ]\n",
            " [0.33138819 0.62247839]\n",
            " [0.86008176 0.70856365]\n",
            " [0.58333294 0.64379363]\n",
            " [0.52004889 0.50006576]\n",
            " [0.16559275 0.70276217]\n",
            " [0.56398655 0.29294856]\n",
            " [0.70740966 0.31347107]\n",
            " [0.87524398 0.80307459]\n",
            " [0.35016937 0.32029718]\n",
            " [0.6292116  0.63403167]\n",
            " [0.37072874 0.15947945]\n",
            " [0.21047577 0.66202687]\n",
            " [0.53537922 0.83115287]\n",
            " [0.3794321  0.51387053]\n",
            " [0.41653582 0.47484984]\n",
            " [0.61287419 0.30914443]\n",
            " [0.124952   0.02470479]\n",
            " [0.75168514 0.65472483]\n",
            " [0.34299755 0.67168715]\n",
            " [0.68333136 0.29490845]\n",
            " [0.20841258 0.21621972]\n",
            " [0.65168994 0.28947096]\n",
            " [0.27673753 0.65650079]\n",
            " [0.27245399 0.4441944 ]\n",
            " [0.63635672 0.27329042]\n",
            " [0.50683955 0.80146378]\n",
            " [0.22813016 0.34332366]\n",
            " [0.48467462 0.2414304 ]\n",
            " [0.27706415 0.46074974]\n",
            " [0.31366486 0.09827467]\n",
            " [0.29852518 0.53161745]\n",
            " [0.71577782 0.35923585]\n",
            " [0.63703679 0.24177415]\n",
            " [0.53509945 0.60899287]\n",
            " [0.395934   0.60813608]\n",
            " [0.379001   0.50792187]\n",
            " [0.74461818 0.30710576]\n",
            " [0.52880019 0.7120916 ]\n",
            " [0.45813206 0.75461524]\n",
            " [0.55392725 0.87173963]\n",
            " [0.82352343 0.67044366]\n",
            " [0.30505752 0.61640876]\n",
            " [0.1251931  0.03680194]\n",
            " [0.38149935 0.62535689]\n",
            " [0.55164928 0.29367183]\n",
            " [0.5844487  0.29114923]\n",
            " [0.43607402 0.29785253]\n",
            " [0.73718005 0.30769931]\n",
            " [0.31821991 0.25363417]\n",
            " [0.32984347 0.4185026 ]\n",
            " [0.38384762 0.00306569]\n",
            " [0.24594271 0.14881805]\n",
            " [0.58374158 0.20047382]\n",
            " [0.29483143 0.74318484]\n",
            " [0.45863632 0.7070025 ]\n",
            " [0.53723046 0.92800757]\n",
            " [0.43448535 0.50106261]]\n"
          ]
        }
      ]
    },
    {
      "cell_type": "code",
      "metadata": {
        "id": "YxLCONrGI8iZ"
      },
      "source": [
        "from sklearn.model_selection import train_test_split\n",
        "\n",
        "x_train, x_test, y_train, y_test = train_test_split(X,y, test_size = 0.2, random_state = 0)"
      ],
      "execution_count": null,
      "outputs": []
    },
    {
      "cell_type": "markdown",
      "metadata": {
        "id": "cnADPI925j6R"
      },
      "source": [
        "### **5. [10] Tuliskan jawaban Anda untuk soal No 1. Hingga No. 4 pada sebuah python notebook dengan  rapi mulai dari import library dan import data!**\n",
        "\n",
        "**Jawaban:** Sudah terjawab pada jawaban diatas yakni dari nomer 1 - 4.\n",
        "\n"
      ]
    }
  ]
}